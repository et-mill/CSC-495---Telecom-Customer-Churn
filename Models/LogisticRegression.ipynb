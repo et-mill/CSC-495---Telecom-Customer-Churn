{
 "cells": [
  {
   "cell_type": "code",
   "execution_count": 1,
   "metadata": {
    "collapsed": true
   },
   "outputs": [],
   "source": [
    "def warn(*args, **kwargs):\n",
    "    pass\n",
    "import warnings\n",
    "warnings.warn = warn\n",
    "## function to skip printing of max_iter warnings\n",
    "\n",
    "import pandas as pd\n",
    "from sklearn.model_selection import train_test_split\n",
    "from sklearn.linear_model import LogisticRegression\n",
    "from sklearn import metrics\n",
    "import matplotlib.pyplot as plt\n",
    "plt.style.use(\"fivethirtyeight\")"
   ]
  },
  {
   "cell_type": "markdown",
   "source": [
    "# Logistic Regression:\n",
    "\n",
    "### Introduction:\n",
    ">Because our variable of interest (churn) is categorical, we are able to apply a logistic regression method\n",
    "to predict whether a customer ended service with a particular telecom company.\n",
    "\n",
    ">To understand logistic regression, we must first discuss linear regression.\n",
    "Linear regression attempts to model the relationship between a dependent variable and one or more explanatory variables,\n",
    "this model outputs predictions in the form of continuous numerical values. This approach is helpful when attempting to\n",
    "predict for example, the sale price of a home in a certain area, or the test score of a student who studied for a\n",
    "certain number of hours, but this method does not easily predict categorical variables. Whether the house was sold,\n",
    "did the student pass or fail. Because the output is continuous it’s hard to determine an appropriate cut-off value\n",
    "for classification we need a discreet output, this is where logistic regression shines.\n",
    "\n",
    ">logistic regression will output a value that is always either 1 or 0. It does this by utilizing a sigmoid function:\n",
    "$S(y)=\\frac{1}{1+e^{-z}}$\n",
    "this function maps predictions from:\n",
    "$y=mx+b$\n",
    "to probabilities that range between 1 and 0, from there we can determine a decision boundary.\n"
   ],
   "metadata": {
    "collapsed": false
   }
  },
  {
   "cell_type": "code",
   "execution_count": 2,
   "outputs": [],
   "source": [
    "churn_data = pd.read_csv(\n",
    "    '/home/elliot/PycharmProjects/CSC 495 - Telecom Customer Churn/Datasets/telecom_churn_Processed.csv')\n",
    "\n",
    "X = churn_data.drop('Churn', axis=1)\n",
    "y = churn_data['Churn']\n",
    "\n",
    "X_train, X_test, y_train, y_test = train_test_split(X, y, test_size = .33, random_state = 7)"
   ],
   "metadata": {
    "collapsed": false,
    "pycharm": {
     "name": "#%%\n"
    }
   }
  },
  {
   "cell_type": "code",
   "execution_count": 3,
   "outputs": [],
   "source": [
    "log = LogisticRegression()\n",
    "log.fit(X_train, y_train)\n",
    "\n",
    "log_y_pred = log.predict(X_test)\n",
    "log_y_pred_train = log.predict(X_train)\n",
    "\n"
   ],
   "metadata": {
    "collapsed": false,
    "pycharm": {
     "name": "#%%\n"
    }
   }
  },
  {
   "cell_type": "markdown",
   "source": [
    "### Metrics:"
   ],
   "metadata": {
    "collapsed": false,
    "pycharm": {
     "name": "#%% md\n"
    }
   }
  },
  {
   "cell_type": "code",
   "execution_count": 4,
   "outputs": [],
   "source": [
    "log_test_as = metrics.accuracy_score(log_y_pred, y_test)\n",
    "log_train_as = metrics.accuracy_score(log_y_pred_train, y_train)\n"
   ],
   "metadata": {
    "collapsed": false,
    "pycharm": {
     "name": "#%%\n"
    }
   }
  },
  {
   "cell_type": "code",
   "execution_count": 5,
   "outputs": [
    {
     "name": "stdout",
     "output_type": "stream",
     "text": [
      "Accuracy score for test data : 0.8009478672985783\n",
      "Accuracy score for train data : 0.8059859902356188\n",
      "              precision    recall  f1-score   support\n",
      "\n",
      "           0       0.90      0.84      0.87      1824\n",
      "           1       0.53      0.66      0.59       497\n",
      "\n",
      "    accuracy                           0.80      2321\n",
      "   macro avg       0.71      0.75      0.73      2321\n",
      "weighted avg       0.82      0.80      0.81      2321\n",
      "\n"
     ]
    }
   ],
   "source": [
    "print(f\"Accuracy score for test data : {log_test_as}\")\n",
    "print(f\"Accuracy score for train data : {log_train_as}\")\n",
    "\n",
    "print(metrics.classification_report(log_y_pred, y_test))"
   ],
   "metadata": {
    "collapsed": false,
    "pycharm": {
     "name": "#%%\n"
    }
   }
  },
  {
   "cell_type": "code",
   "execution_count": 6,
   "outputs": [],
   "source": [
    "y_proba_log = log.predict_proba(X_test)[:, 1]\n",
    "fpr, tpr, threshold = metrics.roc_curve(y_test, y_proba_log)"
   ],
   "metadata": {
    "collapsed": false,
    "pycharm": {
     "name": "#%%\n"
    }
   }
  },
  {
   "cell_type": "code",
   "execution_count": 7,
   "outputs": [
    {
     "data": {
      "text/plain": "<Figure size 432x288 with 1 Axes>",
      "image/png": "[encoded data removed]"
     },
     "metadata": {},
     "output_type": "display_data"
    }
   ],
   "source": [
    "plt.plot([0, 1], [0, 1], 'k--')\n",
    "plt.plot(fpr, tpr, label = 'Logistic Regression')\n",
    "plt.xlabel('fpr')\n",
    "plt.ylabel('tpr')\n",
    "plt.title('ROC Curve')\n",
    "plt.legend();\n"
   ],
   "metadata": {
    "collapsed": false,
    "pycharm": {
     "name": "#%%\n"
    }
   }
  },
  {
   "cell_type": "code",
   "execution_count": 8,
   "outputs": [
    {
     "data": {
      "text/plain": "0.842078173621252"
     },
     "execution_count": 8,
     "metadata": {},
     "output_type": "execute_result"
    }
   ],
   "source": [
    "metrics.roc_auc_score(y_test, y_proba_log)\n",
    "y_proba_log_train = log.predict_proba(X_train)[:, 1]\n",
    "metrics.roc_auc_score(y_train, y_proba_log_train)\n",
    "\n",
    "\n",
    "\n",
    "\n"
   ],
   "metadata": {
    "collapsed": false,
    "pycharm": {
     "name": "#%%\n"
    }
   }
  }
 ],
 "metadata": {
  "kernelspec": {
   "display_name": "Python 3",
   "language": "python",
   "name": "python3"
  },
  "language_info": {
   "codemirror_mode": {
    "name": "ipython",
    "version": 2
   },
   "file_extension": ".py",
   "mimetype": "text/x-python",
   "name": "python",
   "nbconvert_exporter": "python",
   "pygments_lexer": "ipython2",
   "version": "2.7.6"
  }
 },
 "nbformat": 4,
 "nbformat_minor": 0
}