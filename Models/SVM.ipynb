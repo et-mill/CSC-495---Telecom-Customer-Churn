{
 "cells": [
  {
   "cell_type": "code",
   "execution_count": 2,
   "outputs": [],
   "source": [
    "def warn(*args, **kwargs):\n",
    "    pass\n",
    "import warnings\n",
    "warnings.warn = warn\n",
    "\n",
    "import numpy as np\n",
    "import seaborn as sns\n",
    "import pandas as pd\n",
    "from sklearn.model_selection import train_test_split, GridSearchCV\n",
    "from sklearn.svm import SVC\n",
    "from sklearn.preprocessing import StandardScaler\n",
    "from sklearn import metrics\n",
    "import matplotlib.pyplot as plt\n",
    "from sklearn.model_selection import KFold\n",
    "from sklearn.model_selection import cross_val_score\n",
    "\n",
    "plt.style.use(\"Solarize_Light2\")"
   ],
   "metadata": {
    "collapsed": false,
    "pycharm": {
     "name": "#%%\n"
    }
   }
  },
  {
   "cell_type": "markdown",
   "source": [
    "# Support Vector Machine:\n",
    "### introduction:\n",
    "The Support Vector Machine algorithm attempts to find a hyperplane in an N-Dimensional space (Where N is the number of\n",
    "features) that distinctly classifies the data points under consideration.\n",
    "There are many such hyperplanes possible, so our objective becomes finding the plane with the maximum margin, or\n",
    "distance between data points of separate classes. Support vectors are data points that lie close to the hyperplane,\n",
    "using their location we determine the hyperplane's position."
   ],
   "metadata": {
    "collapsed": false,
    "pycharm": {
     "name": "#%% md\n"
    }
   }
  },
  {
   "cell_type": "code",
   "execution_count": 3,
   "outputs": [],
   "source": [
    "churn_data = pd.read_csv('/home/elliot/PycharmProjects/CSC 495 - Telecom Customer Churn/Datasets/telecom_churn_Processed.csv')\n",
    "\n",
    "X = churn_data.drop('Churn', axis=1)\n",
    "\n",
    "y = churn_data['Churn']\n",
    "\n",
    "X_train, X_test, y_train, y_test = train_test_split(X, y, test_size = .33, random_state = 42)"
   ],
   "metadata": {
    "collapsed": false,
    "pycharm": {
     "name": "#%%\n"
    }
   }
  },
  {
   "cell_type": "markdown",
   "source": [
    "First Iteration:"
   ],
   "metadata": {
    "collapsed": false,
    "pycharm": {
     "name": "#%% md\n"
    }
   }
  },
  {
   "cell_type": "code",
   "execution_count": 4,
   "outputs": [
    {
     "data": {
      "text/plain": "SVC()"
     },
     "execution_count": 4,
     "metadata": {},
     "output_type": "execute_result"
    }
   ],
   "source": [
    "svc = SVC()\n",
    "svc.fit(X_train, y_train)"
   ],
   "metadata": {
    "collapsed": false,
    "pycharm": {
     "name": "#%%\n"
    }
   }
  },
  {
   "cell_type": "code",
   "execution_count": 5,
   "outputs": [],
   "source": [
    "y_pred_svc = svc.predict(X_test)\n",
    "y_pred_train = svc.predict(X_train)\n",
    "\n",
    "svc_train_as = metrics.accuracy_score(y_train, y_pred_train)\n",
    "svc_as = metrics.accuracy_score(y_test, y_pred_svc)\n"
   ],
   "metadata": {
    "collapsed": false,
    "pycharm": {
     "name": "#%%\n"
    }
   }
  },
  {
   "cell_type": "code",
   "execution_count": 6,
   "outputs": [
    {
     "name": "stdout",
     "output_type": "stream",
     "text": [
      "Accuracy score for test data : 0.7371822490305903\n",
      "Accuracy score for train data : 0.73275313097007\n"
     ]
    }
   ],
   "source": [
    "print(f\"Accuracy score for test data : {svc_as}\")\n",
    "print(f\"Accuracy score for train data : {svc_train_as}\")"
   ],
   "metadata": {
    "collapsed": false,
    "pycharm": {
     "name": "#%%\n"
    }
   }
  },
  {
   "cell_type": "markdown",
   "source": [
    "This seems like a good starting point for our model, the accuracy isn't great but it's not terrible. But on closer\n",
    "inspection we find that there are some real issues in our model."
   ],
   "metadata": {
    "collapsed": false
   }
  },
  {
   "cell_type": "code",
   "execution_count": 7,
   "outputs": [
    {
     "name": "stdout",
     "output_type": "stream",
     "text": [
      "              precision    recall  f1-score   support\n",
      "\n",
      "           0       0.74      1.00      0.85      1711\n",
      "           1       0.00      0.00      0.00       610\n",
      "\n",
      "    accuracy                           0.74      2321\n",
      "   macro avg       0.37      0.50      0.42      2321\n",
      "weighted avg       0.54      0.74      0.63      2321\n",
      "\n"
     ]
    }
   ],
   "source": [
    "print(metrics.classification_report(y_test, y_pred_svc))\n"
   ],
   "metadata": {
    "collapsed": false,
    "pycharm": {
     "name": "#%%\n"
    }
   }
  },
  {
   "cell_type": "code",
   "execution_count": 8,
   "outputs": [
    {
     "data": {
      "text/plain": "<AxesSubplot:>"
     },
     "execution_count": 8,
     "metadata": {},
     "output_type": "execute_result"
    },
    {
     "data": {
      "text/plain": "<Figure size 432x288 with 2 Axes>",
      "image/png": "[encoded data removed]"
     },
     "metadata": {},
     "output_type": "display_data"
    }
   ],
   "source": [
    "cf_matrix = metrics.confusion_matrix(y_pred_svc, y_test)\n",
    "group_names = ['True Neg', 'False Pos', 'False Neg', 'True Pos']\n",
    "group_counts = [f\"{value}\" for value in cf_matrix.flatten()]\n",
    "group_percentages = [\"{0:.2%}\".format(value) for value in\n",
    "                     cf_matrix.flatten()/np.sum(cf_matrix)]\n",
    "labels = [f\"{v1}\\n{v2}\\n{v3}\" for v1, v2, v3 in\n",
    "          zip(group_names,group_counts,group_percentages)]\n",
    "labels = np.asarray(labels).reshape(2,2)\n",
    "sns.heatmap(cf_matrix, annot=labels, fmt='', cmap='crest')"
   ],
   "metadata": {
    "collapsed": false,
    "pycharm": {
     "name": "#%%\n"
    }
   }
  },
  {
   "cell_type": "markdown",
   "source": [
    "The model is horrible, with our goal of identifying true positives for customer churn, it hasn't been able to find one.\n",
    "We need to correct something, the most likely issue is non-standardized quantitative data in our dataset.\n",
    "Let's see if we can do anything to improve these results, first we will scale our quantitative features."
   ],
   "metadata": {
    "collapsed": false,
    "pycharm": {
     "name": "#%% md\n"
    }
   }
  },
  {
   "cell_type": "code",
   "execution_count": 9,
   "outputs": [],
   "source": [
    "# Now we Scale the data\n",
    "sc = StandardScaler()\n",
    "\n",
    "X_train_sc = sc.fit_transform(X_train)\n",
    "X_test_sc = sc.transform(X_test)"
   ],
   "metadata": {
    "collapsed": false,
    "pycharm": {
     "name": "#%%\n"
    }
   }
  },
  {
   "cell_type": "code",
   "execution_count": 10,
   "outputs": [],
   "source": [
    "svc_sc = SVC()\n",
    "svc_sc.fit(X_train_sc, y_train)\n",
    "\n",
    "y_pred_sc = svc_sc.predict(X_test_sc)\n",
    "y_pred_sc_train = svc_sc.predict(X_train_sc)\n",
    "\n",
    "svc_sc_train_as = metrics.accuracy_score(y_train, y_pred_sc_train)\n",
    "svc_sc_as = metrics.accuracy_score(y_test, y_pred_sc)\n"
   ],
   "metadata": {
    "collapsed": false,
    "pycharm": {
     "name": "#%%\n"
    }
   }
  },
  {
   "cell_type": "code",
   "execution_count": 11,
   "outputs": [
    {
     "data": {
      "text/plain": "<AxesSubplot:>"
     },
     "execution_count": 11,
     "metadata": {},
     "output_type": "execute_result"
    },
    {
     "data": {
      "text/plain": "<Figure size 432x288 with 2 Axes>",
      "image/png": "[encoded data removed]"
     },
     "metadata": {},
     "output_type": "display_data"
    }
   ],
   "source": [
    "cf_matrix = metrics.confusion_matrix(y_pred_sc, y_test)\n",
    "group_names = ['True Neg', 'False Pos', 'False Neg', 'True Pos']\n",
    "group_counts = [f\"{value}\" for value in cf_matrix.flatten()]\n",
    "group_percentages = [\"{0:.2%}\".format(value) for value in\n",
    "                     cf_matrix.flatten()/np.sum(cf_matrix)]\n",
    "labels = [f\"{v1}\\n{v2}\\n{v3}\" for v1, v2, v3 in\n",
    "          zip(group_names,group_counts,group_percentages)]\n",
    "labels = np.asarray(labels).reshape(2,2)\n",
    "sns.heatmap(cf_matrix, annot=labels, fmt='', cmap='crest')"
   ],
   "metadata": {
    "collapsed": false,
    "pycharm": {
     "name": "#%%\n"
    }
   }
  },
  {
   "cell_type": "code",
   "execution_count": 12,
   "outputs": [
    {
     "name": "stdout",
     "output_type": "stream",
     "text": [
      "Accuracy score for test data : 0.7949159844894442\n",
      "Accuracy score for train data : 0.8227552536616429\n",
      "              precision    recall  f1-score   support\n",
      "\n",
      "           0       0.83      0.91      0.87      1711\n",
      "           1       0.65      0.48      0.55       610\n",
      "\n",
      "    accuracy                           0.79      2321\n",
      "   macro avg       0.74      0.69      0.71      2321\n",
      "weighted avg       0.78      0.79      0.78      2321\n",
      "\n"
     ]
    }
   ],
   "source": [
    "print(f\"Accuracy score for test data : {svc_sc_as}\")\n",
    "print(f\"Accuracy score for train data : {svc_sc_train_as}\")\n",
    "print(metrics.classification_report(y_test, y_pred_sc))"
   ],
   "metadata": {
    "collapsed": false,
    "pycharm": {
     "name": "#%%\n"
    }
   }
  },
  {
   "cell_type": "markdown",
   "source": [
    "Standardizing our quantitative data using StandardScaler() has really improved the performance of our model, now we will\n",
    "take this opportunity to tune the hyperparameters of our model, and see if we can improve performance further."
   ],
   "metadata": {
    "collapsed": false,
    "pycharm": {
     "name": "#%% md\n"
    }
   }
  },
  {
   "cell_type": "code",
   "execution_count": 13,
   "outputs": [],
   "source": [
    "params = {'kernel' : ['rbf'], 'C' : [0.1, 1, 5, 10], 'gamma' : [0.01, 0.1, 0.9, 1]}\n",
    "\n",
    "grid = GridSearchCV(SVC(), params, cv = 5, return_train_score= False)\n"
   ],
   "metadata": {
    "collapsed": false,
    "pycharm": {
     "name": "#%%\n"
    }
   }
  },
  {
   "cell_type": "code",
   "execution_count": 14,
   "outputs": [
    {
     "name": "stdout",
     "output_type": "stream",
     "text": [
      "Accuracy score for test data : 0.7962085308056872\n",
      "Accuracy score for train data : 0.8106559116960306\n",
      "              precision    recall  f1-score   support\n",
      "\n",
      "           0       0.83      0.91      0.87      1711\n",
      "           1       0.65      0.49      0.56       610\n",
      "\n",
      "    accuracy                           0.80      2321\n",
      "   macro avg       0.74      0.70      0.71      2321\n",
      "weighted avg       0.78      0.80      0.79      2321\n",
      "\n"
     ]
    }
   ],
   "source": [
    "svc_new = SVC(C = 1, gamma = 0.01, kernel = 'rbf')\n",
    "svc_new.fit(X_train_sc, y_train)\n",
    "\n",
    "y_pred_new = svc_new.predict(X_test_sc)\n",
    "y_pred_new_train = svc_new.predict(X_train_sc)\n",
    "\n",
    "svc_new_train_as = metrics.accuracy_score(y_train, y_pred_new_train)\n",
    "svc_new_as = metrics.accuracy_score(y_test, y_pred_new)\n",
    "\n",
    "print(f\"Accuracy score for test data : {svc_new_as}\")\n",
    "print(f\"Accuracy score for train data : {svc_new_train_as}\")\n",
    "\n",
    "print(metrics.classification_report(y_test, y_pred_new))"
   ],
   "metadata": {
    "collapsed": false,
    "pycharm": {
     "name": "#%%\n"
    }
   }
  },
  {
   "cell_type": "markdown",
   "source": [
    "Our model's performance has improved slightly, but the performance gain has not made the SVM model stand out compared\n",
    "to other methods available. Here is the ROC curve for the SVM, which we will use to compare to other models in the\n",
    "future:"
   ],
   "metadata": {
    "collapsed": false,
    "pycharm": {
     "name": "#%% md\n"
    }
   }
  },
  {
   "cell_type": "code",
   "execution_count": 15,
   "outputs": [
    {
     "data": {
      "text/plain": "<sklearn.metrics._plot.roc_curve.RocCurveDisplay at 0x7fbb50206fa0>"
     },
     "execution_count": 15,
     "metadata": {},
     "output_type": "execute_result"
    },
    {
     "data": {
      "text/plain": "<Figure size 432x288 with 1 Axes>",
      "image/png": "[encoded data removed]"
     },
     "metadata": {},
     "output_type": "display_data"
    }
   ],
   "source": [
    "metrics.plot_roc_curve(svc_new, X_train_sc, y_train)"
   ],
   "metadata": {
    "collapsed": false,
    "pycharm": {
     "name": "#%%\n"
    }
   }
  },
  {
   "cell_type": "code",
   "execution_count": 19,
   "outputs": [
    {
     "name": "stdout",
     "output_type": "stream",
     "text": [
      "Avg accuracy: 79.81% +/- 1.11%\n",
      " range: [78.7, 80.92]\n"
     ]
    }
   ],
   "source": [
    "k = 5\n",
    "kf = KFold(n_splits=k, random_state=None)\n",
    "\n",
    "result = cross_val_score(svc_new , X_train_sc, y_train, cv = kf)\n",
    "mean = round(result.mean()*100, 2)\n",
    "stdv = round(result.std()*100, 2)\n",
    "range = [round(mean-stdv, 2), round(mean+stdv ,2)]\n",
    "\n",
    "print(\"Avg accuracy: {}% +/- {}%\\n range: {}\".format(mean, stdv, range))"
   ],
   "metadata": {
    "collapsed": false,
    "pycharm": {
     "name": "#%%\n"
    }
   }
  }
 ],
 "metadata": {
  "kernelspec": {
   "display_name": "Python 3",
   "language": "python",
   "name": "python3"
  },
  "language_info": {
   "codemirror_mode": {
    "name": "ipython",
    "version": 2
   },
   "file_extension": ".py",
   "mimetype": "text/x-python",
   "name": "python",
   "nbconvert_exporter": "python",
   "pygments_lexer": "ipython2",
   "version": "2.7.6"
  }
 },
 "nbformat": 4,
 "nbformat_minor": 0
}