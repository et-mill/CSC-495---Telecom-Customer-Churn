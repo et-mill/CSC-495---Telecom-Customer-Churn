{
 "cells": [
  {
   "cell_type": "code",
   "execution_count": 2,
   "outputs": [],
   "source": [
    "def warn(*args, **kwargs):\n",
    "    pass\n",
    "import warnings\n",
    "warnings.warn = warn\n",
    "import pandas as pd\n",
    "from sklearn.model_selection import train_test_split, GridSearchCV\n",
    "from sklearn.svm import SVC\n",
    "from sklearn.preprocessing import StandardScaler\n",
    "from sklearn import metrics\n",
    "import matplotlib.pyplot as plt\n",
    "plt.style.use(\"fivethirtyeight\")"
   ],
   "metadata": {
    "collapsed": false,
    "pycharm": {
     "name": "#%%\n"
    }
   }
  },
  {
   "cell_type": "code",
   "execution_count": 3,
   "outputs": [],
   "source": [
    "churn_data = pd.read_csv('/home/elliot/PycharmProjects/CSC 495 - Telecom Customer Churn/Datasets/telecom_churn_Processed.csv')\n",
    "\n",
    "X = churn_data.drop('Churn', axis=1)\n",
    "y = churn_data['Churn']\n",
    "\n",
    "X_train, X_test, y_train, y_test = train_test_split(X, y, test_size = .33, random_state = 42)"
   ],
   "metadata": {
    "collapsed": false,
    "pycharm": {
     "name": "#%%\n"
    }
   }
  },
  {
   "cell_type": "code",
   "execution_count": 4,
   "outputs": [
    {
     "data": {
      "text/plain": "SVC()"
     },
     "execution_count": 4,
     "metadata": {},
     "output_type": "execute_result"
    }
   ],
   "source": [
    "svc = SVC()\n",
    "svc.fit(X_train, y_train)"
   ],
   "metadata": {
    "collapsed": false,
    "pycharm": {
     "name": "#%%\n"
    }
   }
  },
  {
   "cell_type": "code",
   "execution_count": 5,
   "outputs": [],
   "source": [
    "y_pred_svc = svc.predict(X_test)\n",
    "y_pred_train = svc.predict(X_train)\n",
    "\n",
    "svc_train_as = metrics.accuracy_score(y_train, y_pred_train)\n",
    "svc_as = metrics.accuracy_score(y_test, y_pred_svc)\n"
   ],
   "metadata": {
    "collapsed": false,
    "pycharm": {
     "name": "#%%\n"
    }
   }
  },
  {
   "cell_type": "code",
   "execution_count": 6,
   "outputs": [
    {
     "name": "stdout",
     "output_type": "stream",
     "text": [
      "Accuracy score for test data : 0.7371822490305903\n",
      "Accuracy score for train data : 0.73275313097007\n"
     ]
    }
   ],
   "source": [
    "print(f\"Accuracy score for test data : {svc_as}\")\n",
    "print(f\"Accuracy score for train data : {svc_train_as}\")\n"
   ],
   "metadata": {
    "collapsed": false,
    "pycharm": {
     "name": "#%%\n"
    }
   }
  },
  {
   "cell_type": "code",
   "execution_count": 7,
   "outputs": [
    {
     "name": "stdout",
     "output_type": "stream",
     "text": [
      "              precision    recall  f1-score   support\n",
      "\n",
      "           0       0.74      1.00      0.85      1711\n",
      "           1       0.00      0.00      0.00       610\n",
      "\n",
      "    accuracy                           0.74      2321\n",
      "   macro avg       0.37      0.50      0.42      2321\n",
      "weighted avg       0.54      0.74      0.63      2321\n",
      "\n"
     ]
    }
   ],
   "source": [
    "print(metrics.classification_report(y_test, y_pred_svc))"
   ],
   "metadata": {
    "collapsed": false,
    "pycharm": {
     "name": "#%%\n"
    }
   }
  },
  {
   "cell_type": "code",
   "execution_count": 8,
   "outputs": [],
   "source": [
    "# Now we Scale the data\n",
    "sc = StandardScaler()\n",
    "\n",
    "X_train_sc = sc.fit_transform(X_train)\n",
    "X_test_sc = sc.transform(X_test)"
   ],
   "metadata": {
    "collapsed": false,
    "pycharm": {
     "name": "#%%\n"
    }
   }
  },
  {
   "cell_type": "code",
   "execution_count": 9,
   "outputs": [],
   "source": [
    "svc_sc = SVC()\n",
    "svc_sc.fit(X_train_sc, y_train)\n",
    "\n",
    "y_pred_sc = svc_sc.predict(X_test_sc)\n",
    "y_pred_sc_train = svc_sc.predict(X_train_sc)\n",
    "\n",
    "svc_sc_train_as = metrics.accuracy_score(y_train, y_pred_sc_train)\n",
    "svc_sc_as = metrics.accuracy_score(y_test, y_pred_sc)\n"
   ],
   "metadata": {
    "collapsed": false,
    "pycharm": {
     "name": "#%%\n"
    }
   }
  },
  {
   "cell_type": "code",
   "execution_count": 10,
   "outputs": [
    {
     "name": "stdout",
     "output_type": "stream",
     "text": [
      "Accuracy score for test data : 0.7949159844894442\n",
      "Accuracy score for train data : 0.8227552536616429\n"
     ]
    }
   ],
   "source": [
    "print(f\"Accuracy score for test data : {svc_sc_as}\")\n",
    "print(f\"Accuracy score for train data : {svc_sc_train_as}\")"
   ],
   "metadata": {
    "collapsed": false,
    "pycharm": {
     "name": "#%%\n"
    }
   }
  },
  {
   "cell_type": "code",
   "execution_count": 11,
   "outputs": [],
   "source": [
    "params = {'kernel' : ['rbf'], 'C' : [0.1, 1, 5, 10], 'gamma' : [0.01, 0.1, 0.9, 1]}\n",
    "\n",
    "grid = GridSearchCV(SVC(), params, cv = 5, return_train_score= False)\n"
   ],
   "metadata": {
    "collapsed": false,
    "pycharm": {
     "name": "#%%\n"
    }
   }
  },
  {
   "cell_type": "code",
   "execution_count": 12,
   "outputs": [
    {
     "name": "stdout",
     "output_type": "stream",
     "text": [
      "Accuracy score for test data : 0.7962085308056872\n",
      "Accuracy score for train data : 0.8106559116960306\n"
     ]
    }
   ],
   "source": [
    "svc_new = SVC(C = 1, gamma = 0.01, kernel = 'rbf')\n",
    "svc_new.fit(X_train_sc, y_train)\n",
    "\n",
    "y_pred_new = svc_new.predict(X_test_sc)\n",
    "y_pred_new_train = svc_new.predict(X_train_sc)\n",
    "\n",
    "svc_new_train_as = metrics.accuracy_score(y_train, y_pred_new_train)\n",
    "svc_new_as = metrics.accuracy_score(y_test, y_pred_new)\n",
    "\n",
    "print(f\"Accuracy score for test data : {svc_new_as}\")\n",
    "print(f\"Accuracy score for train data : {svc_new_train_as}\")\n"
   ],
   "metadata": {
    "collapsed": false,
    "pycharm": {
     "name": "#%%\n"
    }
   }
  },
  {
   "cell_type": "code",
   "execution_count": 13,
   "outputs": [
    {
     "data": {
      "text/plain": "<sklearn.metrics._plot.roc_curve.RocCurveDisplay at 0x7f2e5e6c0790>"
     },
     "execution_count": 13,
     "metadata": {},
     "output_type": "execute_result"
    },
    {
     "data": {
      "text/plain": "<Figure size 432x288 with 1 Axes>",
      "image/png": "[encoded data removed]"
     },
     "metadata": {},
     "output_type": "display_data"
    }
   ],
   "source": [
    "metrics.plot_roc_curve(svc_new, X_train_sc, y_train)\n"
   ],
   "metadata": {
    "collapsed": false,
    "pycharm": {
     "name": "#%%\n"
    }
   }
  }
 ],
 "metadata": {
  "kernelspec": {
   "display_name": "Python 3",
   "language": "python",
   "name": "python3"
  },
  "language_info": {
   "codemirror_mode": {
    "name": "ipython",
    "version": 2
   },
   "file_extension": ".py",
   "mimetype": "text/x-python",
   "name": "python",
   "nbconvert_exporter": "python",
   "pygments_lexer": "ipython2",
   "version": "2.7.6"
  }
 },
 "nbformat": 4,
 "nbformat_minor": 0
}